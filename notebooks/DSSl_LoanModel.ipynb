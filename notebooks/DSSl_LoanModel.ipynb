{
 "cells": [
  {
   "cell_type": "markdown",
   "metadata": {},
   "source": [
    "## Training a Loan Approval Model\n",
    "### Objective\n",
    "The objective of this notebook is to train a binary classification model that can predict fulfilment of loans and hence, automate loan approvals."
   ]
  },
  {
   "cell_type": "markdown",
   "metadata": {},
   "source": [
    "### 1. Exploratory Data Analysis"
   ]
  },
  {
   "cell_type": "code",
   "execution_count": 1,
   "metadata": {},
   "outputs": [
    {
     "name": "stdout",
     "output_type": "stream",
     "text": [
      "Collecting package metadata (current_repodata.json): ...working... done\n",
      "Solving environment: ...working... Solving environment: ...working... done\n",
      "done\n",
      "\n",
      "## Package Plan ##\n",
      "\n",
      "  environment location: D:\\miniconda\n",
      "\n",
      "  added / updated specs:\n",
      "    - asttokens\n",
      "    - backcall\n",
      "    - bzip2\n",
      "    - ca-certificates\n",
      "    - colorama\n",
      "    - comm\n",
      "    - debugpy\n",
      "    - decorator\n",
      "    - executing\n",
      "    - importlib-metadata\n",
      "    - importlib_metadata\n",
      "    - ipykernel\n",
      "    - ipython\n",
      "    - jedi\n",
      "    - jupyter_client\n",
      "    - jupyter_core\n",
      "    - libffi\n",
      "    - libsodium\n",
      "    - libsqlite\n",
      "    - libzlib\n",
      "    - matplotlib-inline\n",
      "    - nest-asyncio\n",
      "    - openssl\n",
      "    - packaging\n",
      "    - parso\n",
      "    - pickleshare\n",
      "    - pip\n",
      "    - platformdirs\n",
      "    - prompt-toolkit\n",
      "    - prompt_toolkit\n",
      "    - psutil\n",
      "    - pure_eval\n",
      "    - pygments\n",
      "    - python-dateutil\n",
      "    - python=3.9\n",
      "    - python_abi\n",
      "    - pywin32\n",
      "    - pyzmq\n",
      "    - setuptools\n",
      "    - six\n",
      "    - stack_data\n",
      "    - tk\n",
      "    - tornado\n",
      "    - traitlets\n",
      "    - typing_extensions\n",
      "    - tzdata\n",
      "    - ucrt\n",
      "    - vc\n",
      "    - vc14_runtime\n",
      "    - vs2015_runtime\n",
      "    - wcwidth\n",
      "    - wheel\n",
      "    - xz\n",
      "    - zeromq\n",
      "    - zipp\n",
      "\n",
      "\n",
      "The following packages will be downloaded:\n",
      "\n",
      "    package                    |            build\n",
      "    ---------------------------|-----------------\n",
      "    brotli-python-1.1.0        |   py39h99910a6_1         314 KB  conda-forge\n",
      "    bzip2-1.0.8                |       hcfcfb64_5         122 KB  conda-forge\n",
      "    cffi-1.16.0                |   py39ha55989b_0         231 KB  conda-forge\n",
      "    charset-normalizer-3.3.2   |     pyhd8ed1ab_0          46 KB  conda-forge\n",
      "    colorama-0.4.6             |     pyhd8ed1ab_0          25 KB  conda-forge\n",
      "    conda-22.11.1              |   py39hcbf5309_1         908 KB  conda-forge\n",
      "    conda-package-handling-2.2.0|     pyh38be061_0         249 KB  conda-forge\n",
      "    conda-package-streaming-0.9.0|     pyhd8ed1ab_0          19 KB  conda-forge\n",
      "    cryptography-42.0.5        |   py39hb6bd5e6_0         1.1 MB  conda-forge\n",
      "    debugpy-1.8.1              |   py39h99910a6_0         2.7 MB  conda-forge\n",
      "    idna-3.6                   |     pyhd8ed1ab_0          49 KB  conda-forge\n",
      "    libffi-3.4.2               |       h8ffe710_5          41 KB  conda-forge\n",
      "    libsqlite-3.45.1           |       hcfcfb64_0         850 KB  conda-forge\n",
      "    libzlib-1.2.13             |       hcfcfb64_5          54 KB  conda-forge\n",
      "    openssl-3.2.1              |       hcfcfb64_0         7.8 MB  conda-forge\n",
      "    pip-24.0                   |     pyhd8ed1ab_0         1.3 MB  conda-forge\n",
      "    pluggy-1.4.0               |     pyhd8ed1ab_0          23 KB  conda-forge\n",
      "    psutil-5.9.8               |   py39ha55989b_0         371 KB  conda-forge\n",
      "    pycosat-0.6.6              |   py39ha55989b_0          73 KB  conda-forge\n",
      "    pycparser-2.21             |     pyhd8ed1ab_0         100 KB  conda-forge\n",
      "    pyopenssl-24.0.0           |     pyhd8ed1ab_0         124 KB  conda-forge\n",
      "    pysocks-1.7.1              |     pyh0701188_6          19 KB  conda-forge\n",
      "    python-3.9.18              |h4de0772_1_cpython        16.1 MB  conda-forge\n",
      "    python_abi-3.9             |           4_cp39           7 KB  conda-forge\n",
      "    pywin32-306                |   py39h99910a6_2         5.5 MB  conda-forge\n",
      "    pyzmq-25.1.2               |   py39h7eaf5a6_0         398 KB  conda-forge\n",
      "    requests-2.31.0            |     pyhd8ed1ab_0          55 KB  conda-forge\n",
      "    ruamel.yaml-0.17.40        |   py39ha55989b_0         193 KB  conda-forge\n",
      "    ruamel.yaml.clib-0.2.8     |   py39ha55989b_0         103 KB  conda-forge\n",
      "    setuptools-69.1.1          |     pyhd8ed1ab_0         459 KB  conda-forge\n",
      "    six-1.16.0                 |     pyh6c4a22f_0          14 KB  conda-forge\n",
      "    tk-8.6.13                  |       h5226925_1         3.3 MB  conda-forge\n",
      "    tornado-6.4                |   py39ha55989b_0         630 KB  conda-forge\n",
      "    tqdm-4.66.2                |     pyhd8ed1ab_0          87 KB  conda-forge\n",
      "    tzdata-2024a               |       h0c530f3_0         117 KB  conda-forge\n",
      "    ucrt-10.0.22621.0          |       h57928b3_0         1.2 MB  conda-forge\n",
      "    urllib3-2.2.1              |     pyhd8ed1ab_0          92 KB  conda-forge\n",
      "    vc-14.3                    |      hcf57466_18          17 KB  conda-forge\n",
      "    vc14_runtime-14.38.33130   |      h82b7239_18         732 KB  conda-forge\n",
      "    vs2015_runtime-14.38.33130 |      hcb4865c_18          17 KB  conda-forge\n",
      "    wheel-0.42.0               |     pyhd8ed1ab_0          56 KB  conda-forge\n",
      "    win_inet_pton-1.1.0        |     pyhd8ed1ab_6           8 KB  conda-forge\n",
      "    xz-5.2.6                   |       h8d14728_0         213 KB  conda-forge\n",
      "    zeromq-4.3.5               |       h63175ca_1         4.0 MB  conda-forge\n",
      "    zstandard-0.22.0           |   py39h95af829_0         304 KB  conda-forge\n",
      "    zstd-1.5.5                 |       h12be248_0         335 KB  conda-forge\n",
      "    ------------------------------------------------------------\n",
      "                                           Total:        50.4 MB\n",
      "\n",
      "The following NEW packages will be INSTALLED:\n",
      "\n",
      "  asttokens          conda-forge/noarch::asttokens-2.4.1-pyhd8ed1ab_0\n",
      "  backcall           conda-forge/noarch::backcall-0.2.0-pyh9f0ad1d_0\n",
      "  brotli-python      conda-forge/win-64::brotli-python-1.1.0-py39h99910a6_1\n",
      "  bzip2              conda-forge/win-64::bzip2-1.0.8-hcfcfb64_5\n",
      "  comm               conda-forge/noarch::comm-0.2.1-pyhd8ed1ab_0\n",
      "  conda-package-str~ conda-forge/noarch::conda-package-streaming-0.9.0-pyhd8ed1ab_0\n",
      "  debugpy            conda-forge/win-64::debugpy-1.8.1-py39h99910a6_0\n",
      "  decorator          conda-forge/noarch::decorator-5.1.1-pyhd8ed1ab_0\n",
      "  executing          conda-forge/noarch::executing-2.0.1-pyhd8ed1ab_0\n",
      "  importlib-metadata conda-forge/noarch::importlib-metadata-7.0.2-pyha770c72_0\n",
      "  importlib_metadata conda-forge/noarch::importlib_metadata-7.0.2-hd8ed1ab_0\n",
      "  ipykernel          conda-forge/noarch::ipykernel-6.29.3-pyha63f2e9_0\n",
      "  ipython            conda-forge/noarch::ipython-8.12.0-pyh08f2357_0\n",
      "  jedi               conda-forge/noarch::jedi-0.19.1-pyhd8ed1ab_0\n",
      "  jupyter_client     conda-forge/noarch::jupyter_client-8.6.0-pyhd8ed1ab_0\n",
      "  jupyter_core       conda-forge/win-64::jupyter_core-5.7.1-py39hcbf5309_0\n",
      "  libffi             conda-forge/win-64::libffi-3.4.2-h8ffe710_5\n",
      "  libsodium          conda-forge/win-64::libsodium-1.0.18-h8d14728_1\n",
      "  libsqlite          conda-forge/win-64::libsqlite-3.45.1-hcfcfb64_0\n",
      "  libzlib            conda-forge/win-64::libzlib-1.2.13-hcfcfb64_5\n",
      "  matplotlib-inline  conda-forge/noarch::matplotlib-inline-0.1.6-pyhd8ed1ab_0\n",
      "  nest-asyncio       conda-forge/noarch::nest-asyncio-1.6.0-pyhd8ed1ab_0\n",
      "  packaging          conda-forge/noarch::packaging-24.0-pyhd8ed1ab_0\n",
      "  parso              conda-forge/noarch::parso-0.8.3-pyhd8ed1ab_0\n",
      "  pickleshare        conda-forge/noarch::pickleshare-0.7.5-py_1003\n",
      "  platformdirs       conda-forge/noarch::platformdirs-4.2.0-pyhd8ed1ab_0\n",
      "  pluggy             conda-forge/noarch::pluggy-1.4.0-pyhd8ed1ab_0\n",
      "  prompt-toolkit     conda-forge/noarch::prompt-toolkit-3.0.42-pyha770c72_0\n",
      "  prompt_toolkit     conda-forge/noarch::prompt_toolkit-3.0.42-hd8ed1ab_0\n",
      "  psutil             conda-forge/win-64::psutil-5.9.8-py39ha55989b_0\n",
      "  pure_eval          conda-forge/noarch::pure_eval-0.2.2-pyhd8ed1ab_0\n",
      "  pygments           conda-forge/noarch::pygments-2.17.2-pyhd8ed1ab_0\n",
      "  python-dateutil    conda-forge/noarch::python-dateutil-2.9.0-pyhd8ed1ab_0\n",
      "  python_abi         conda-forge/win-64::python_abi-3.9-4_cp39\n",
      "  pyzmq              conda-forge/win-64::pyzmq-25.1.2-py39h7eaf5a6_0\n",
      "  ruamel.yaml        conda-forge/win-64::ruamel.yaml-0.17.40-py39ha55989b_0\n",
      "  ruamel.yaml.clib   conda-forge/win-64::ruamel.yaml.clib-0.2.8-py39ha55989b_0\n",
      "  stack_data         conda-forge/noarch::stack_data-0.6.2-pyhd8ed1ab_0\n",
      "  tk                 conda-forge/win-64::tk-8.6.13-h5226925_1\n",
      "  toolz              conda-forge/noarch::toolz-0.12.1-pyhd8ed1ab_0\n",
      "  tornado            conda-forge/win-64::tornado-6.4-py39ha55989b_0\n",
      "  traitlets          conda-forge/noarch::traitlets-5.14.1-pyhd8ed1ab_0\n",
      "  typing_extensions  conda-forge/noarch::typing_extensions-4.10.0-pyha770c72_0\n",
      "  ucrt               conda-forge/win-64::ucrt-10.0.22621.0-h57928b3_0\n",
      "  vc14_runtime       conda-forge/win-64::vc14_runtime-14.38.33130-h82b7239_18\n",
      "  wcwidth            conda-forge/noarch::wcwidth-0.2.13-pyhd8ed1ab_0\n",
      "  xz                 conda-forge/win-64::xz-5.2.6-h8d14728_0\n",
      "  zeromq             conda-forge/win-64::zeromq-4.3.5-h63175ca_1\n",
      "  zipp               conda-forge/noarch::zipp-3.17.0-pyhd8ed1ab_0\n",
      "  zstandard          conda-forge/win-64::zstandard-0.22.0-py39h95af829_0\n",
      "  zstd               conda-forge/win-64::zstd-1.5.5-h12be248_0\n",
      "\n",
      "The following packages will be REMOVED:\n",
      "\n",
      "  brotlipy-0.7.0-py39h2bbff1b_1003\n",
      "  conda-content-trust-0.1.1-pyhd3eb1b0_0\n",
      "  ruamel_yaml-0.15.100-py39h2bbff1b_0\n",
      "  sqlite-3.38.2-h2bbff1b_0\n",
      "  wincertstore-0.2-py39haa95532_2\n",
      "  yaml-0.2.5-he774522_0\n",
      "\n",
      "The following packages will be UPDATED:\n",
      "\n",
      "  ca-certificates    pkgs/main::ca-certificates-2022.3.29-~ --> conda-forge::ca-certificates-2024.2.2-h56e8100_0\n",
      "  certifi            pkgs/main/win-64::certifi-2021.10.8-p~ --> conda-forge/noarch::certifi-2024.2.2-pyhd8ed1ab_0\n",
      "  cffi                pkgs/main::cffi-1.15.0-py39h2bbff1b_1 --> conda-forge::cffi-1.16.0-py39ha55989b_0\n",
      "  charset-normalizer pkgs/main::charset-normalizer-2.0.4-p~ --> conda-forge::charset-normalizer-3.3.2-pyhd8ed1ab_0\n",
      "  colorama           pkgs/main::colorama-0.4.4-pyhd3eb1b0_0 --> conda-forge::colorama-0.4.6-pyhd8ed1ab_0\n",
      "  conda              pkgs/main::conda-4.12.0-py39haa95532_0 --> conda-forge::conda-22.11.1-py39hcbf5309_1\n",
      "  conda-package-han~ pkgs/main/win-64::conda-package-handl~ --> conda-forge/noarch::conda-package-handling-2.2.0-pyh38be061_0\n",
      "  cryptography       pkgs/main::cryptography-36.0.0-py39h2~ --> conda-forge::cryptography-42.0.5-py39hb6bd5e6_0\n",
      "  idna                     pkgs/main::idna-3.3-pyhd3eb1b0_0 --> conda-forge::idna-3.6-pyhd8ed1ab_0\n",
      "  openssl              pkgs/main::openssl-1.1.1n-h2bbff1b_0 --> conda-forge::openssl-3.2.1-hcfcfb64_0\n",
      "  pip                pkgs/main/win-64::pip-21.2.4-py39haa9~ --> conda-forge/noarch::pip-24.0-pyhd8ed1ab_0\n",
      "  pycosat            pkgs/main::pycosat-0.6.3-py39h2bbff1b~ --> conda-forge::pycosat-0.6.6-py39ha55989b_0\n",
      "  pyopenssl          pkgs/main::pyopenssl-22.0.0-pyhd3eb1b~ --> conda-forge::pyopenssl-24.0.0-pyhd8ed1ab_0\n",
      "  pysocks            pkgs/main/win-64::pysocks-1.7.1-py39h~ --> conda-forge/noarch::pysocks-1.7.1-pyh0701188_6\n",
      "  python                pkgs/main::python-3.9.12-h6244533_0 --> conda-forge::python-3.9.18-h4de0772_1_cpython\n",
      "  pywin32             pkgs/main::pywin32-302-py39h2bbff1b_2 --> conda-forge::pywin32-306-py39h99910a6_2\n",
      "  requests           pkgs/main::requests-2.27.1-pyhd3eb1b0~ --> conda-forge::requests-2.31.0-pyhd8ed1ab_0\n",
      "  setuptools         pkgs/main/win-64::setuptools-61.2.0-p~ --> conda-forge/noarch::setuptools-69.1.1-pyhd8ed1ab_0\n",
      "  tqdm                  pkgs/main::tqdm-4.63.0-pyhd3eb1b0_0 --> conda-forge::tqdm-4.66.2-pyhd8ed1ab_0\n",
      "  tzdata                 pkgs/main::tzdata-2022a-hda174b7_0 --> conda-forge::tzdata-2024a-h0c530f3_0\n",
      "  urllib3            pkgs/main::urllib3-1.26.8-pyhd3eb1b0_0 --> conda-forge::urllib3-2.2.1-pyhd8ed1ab_0\n",
      "  vc                          pkgs/main::vc-14.2-h21ff451_1 --> conda-forge::vc-14.3-hcf57466_18\n",
      "  vs2015_runtime     pkgs/main::vs2015_runtime-14.27.29016~ --> conda-forge::vs2015_runtime-14.38.33130-hcb4865c_18\n",
      "  wheel                pkgs/main::wheel-0.37.1-pyhd3eb1b0_0 --> conda-forge::wheel-0.42.0-pyhd8ed1ab_0\n",
      "  win_inet_pton      pkgs/main/win-64::win_inet_pton-1.1.0~ --> conda-forge/noarch::win_inet_pton-1.1.0-pyhd8ed1ab_6\n",
      "\n",
      "The following packages will be SUPERSEDED by a higher-priority channel:\n",
      "\n",
      "  pycparser          pkgs/main::pycparser-2.21-pyhd3eb1b0_0 --> conda-forge::pycparser-2.21-pyhd8ed1ab_0\n",
      "  six                    pkgs/main::six-1.16.0-pyhd3eb1b0_1 --> conda-forge::six-1.16.0-pyh6c4a22f_0\n",
      "\n",
      "\n",
      "\n",
      "Downloading and Extracting Packages\n",
      "\n",
      "zstandard-0.22.0     | 304 KB    |            |   0% \n",
      "zstandard-0.22.0     | 304 KB    | 5          |   5% \n",
      "zstandard-0.22.0     | 304 KB    | ########## | 100% \n",
      "zstandard-0.22.0     | 304 KB    | ########## | 100% \n",
      "\n",
      "urllib3-2.2.1        | 92 KB     |            |   0% \n",
      "urllib3-2.2.1        | 92 KB     | ########## | 100% \n",
      "urllib3-2.2.1        | 92 KB     | ########## | 100% \n",
      "\n",
      "idna-3.6             | 49 KB     |            |   0% \n",
      "idna-3.6             | 49 KB     | ########## | 100% \n",
      "idna-3.6             | 49 KB     | ########## | 100% \n",
      "\n",
      "ucrt-10.0.22621.0    | 1.2 MB    |            |   0% \n",
      "ucrt-10.0.22621.0    | 1.2 MB    | #####7     |  57% \n",
      "ucrt-10.0.22621.0    | 1.2 MB    | ########## | 100% \n",
      "\n",
      "zeromq-4.3.5         | 4.0 MB    |            |   0% \n",
      "zeromq-4.3.5         | 4.0 MB    | #3         |  13% \n",
      "zeromq-4.3.5         | 4.0 MB    | ####4      |  45% \n",
      "zeromq-4.3.5         | 4.0 MB    | #######5   |  76% \n",
      "zeromq-4.3.5         | 4.0 MB    | ########## | 100% \n",
      "\n",
      "pip-24.0             | 1.3 MB    |            |   0% \n",
      "pip-24.0             | 1.3 MB    | #####7     |  57% \n",
      "pip-24.0             | 1.3 MB    | ########## | 100% \n",
      "\n",
      "conda-22.11.1        | 908 KB    |            |   0% \n",
      "conda-22.11.1        | 908 KB    | 1          |   2% \n",
      "conda-22.11.1        | 908 KB    | ########## | 100% \n",
      "conda-22.11.1        | 908 KB    | ########## | 100% \n",
      "\n",
      "libsqlite-3.45.1     | 850 KB    |            |   0% \n",
      "libsqlite-3.45.1     | 850 KB    | ###2       |  32% \n",
      "libsqlite-3.45.1     | 850 KB    | ########## | 100% \n",
      "libsqlite-3.45.1     | 850 KB    | ########## | 100% \n",
      "\n",
      "tornado-6.4          | 630 KB    |            |   0% \n",
      "tornado-6.4          | 630 KB    | ########8  |  89% \n",
      "tornado-6.4          | 630 KB    | ########## | 100% \n",
      "\n",
      "ruamel.yaml-0.17.40  | 193 KB    |            |   0% \n",
      "ruamel.yaml-0.17.40  | 193 KB    | ########## | 100% \n",
      "ruamel.yaml-0.17.40  | 193 KB    | ########## | 100% \n",
      "\n",
      "xz-5.2.6             | 213 KB    |            |   0% \n",
      "xz-5.2.6             | 213 KB    | ########## | 100% \n",
      "xz-5.2.6             | 213 KB    | ########## | 100% \n",
      "\n",
      "libzlib-1.2.13       | 54 KB     |            |   0% \n",
      "libzlib-1.2.13       | 54 KB     | ########## | 100% \n",
      "\n",
      "python-3.9.18        | 16.1 MB   |            |   0% \n",
      "python-3.9.18        | 16.1 MB   | 4          |   4% \n",
      "python-3.9.18        | 16.1 MB   | #4         |  14% \n",
      "python-3.9.18        | 16.1 MB   | ##8        |  29% \n",
      "python-3.9.18        | 16.1 MB   | ####1      |  41% \n",
      "python-3.9.18        | 16.1 MB   | #####4     |  55% \n",
      "python-3.9.18        | 16.1 MB   | ######9    |  70% \n",
      "python-3.9.18        | 16.1 MB   | ########4  |  85% \n",
      "python-3.9.18        | 16.1 MB   | #########7 |  97% \n",
      "python-3.9.18        | 16.1 MB   | ########## | 100% \n",
      "\n",
      "conda-package-handli | 249 KB    |            |   0% \n",
      "conda-package-handli | 249 KB    | ########## | 100% \n",
      "conda-package-handli | 249 KB    | ########## | 100% \n",
      "\n",
      "six-1.16.0           | 14 KB     |            |   0% \n",
      "six-1.16.0           | 14 KB     | ########## | 100% \n",
      "\n",
      "cffi-1.16.0          | 231 KB    |            |   0% \n",
      "cffi-1.16.0          | 231 KB    | ########## | 100% \n",
      "cffi-1.16.0          | 231 KB    | ########## | 100% \n",
      "\n",
      "openssl-3.2.1        | 7.8 MB    |            |   0% \n",
      "openssl-3.2.1        | 7.8 MB    | 6          |   6% \n",
      "openssl-3.2.1        | 7.8 MB    | ####4      |  44% \n",
      "openssl-3.2.1        | 7.8 MB    | #######8   |  79% \n",
      "openssl-3.2.1        | 7.8 MB    | ########## | 100% \n",
      "\n",
      "debugpy-1.8.1        | 2.7 MB    |            |   0% \n",
      "debugpy-1.8.1        | 2.7 MB    | ####7      |  48% \n",
      "debugpy-1.8.1        | 2.7 MB    | ########## | 100% \n",
      "debugpy-1.8.1        | 2.7 MB    | ########## | 100% \n",
      "\n",
      "pywin32-306          | 5.5 MB    |            |   0% \n",
      "pywin32-306          | 5.5 MB    | ##1        |  21% \n",
      "pywin32-306          | 5.5 MB    | ######6    |  66% \n",
      "pywin32-306          | 5.5 MB    | ########## | 100% \n",
      "\n",
      "python_abi-3.9       | 7 KB      |            |   0% \n",
      "python_abi-3.9       | 7 KB      | ########## | 100% \n",
      "python_abi-3.9       | 7 KB      | ########## | 100% \n",
      "\n",
      "conda-package-stream | 19 KB     |            |   0% \n",
      "conda-package-stream | 19 KB     | ########## | 100% \n",
      "conda-package-stream | 19 KB     | ########## | 100% \n",
      "\n",
      "pyopenssl-24.0.0     | 124 KB    |            |   0% \n",
      "pyopenssl-24.0.0     | 124 KB    | ########## | 100% \n",
      "pyopenssl-24.0.0     | 124 KB    | ########## | 100% \n",
      "\n",
      "vs2015_runtime-14.38 | 17 KB     |            |   0% \n",
      "vs2015_runtime-14.38 | 17 KB     | ########## | 100% \n",
      "vs2015_runtime-14.38 | 17 KB     | ########## | 100% \n",
      "\n",
      "ruamel.yaml.clib-0.2 | 103 KB    |            |   0% \n",
      "ruamel.yaml.clib-0.2 | 103 KB    | ########## | 100% \n",
      "ruamel.yaml.clib-0.2 | 103 KB    | ########## | 100% \n",
      "\n",
      "tzdata-2024a         | 117 KB    |            |   0% \n",
      "tzdata-2024a         | 117 KB    | ########## | 100% \n",
      "tzdata-2024a         | 117 KB    | ########## | 100% \n",
      "\n",
      "brotli-python-1.1.0  | 314 KB    |            |   0% \n",
      "brotli-python-1.1.0  | 314 KB    | ####       |  41% \n",
      "brotli-python-1.1.0  | 314 KB    | ########## | 100% \n",
      "\n",
      "wheel-0.42.0         | 56 KB     |            |   0% \n",
      "wheel-0.42.0         | 56 KB     | ########## | 100% \n",
      "wheel-0.42.0         | 56 KB     | ########## | 100% \n",
      "\n",
      "pyzmq-25.1.2         | 398 KB    |            |   0% \n",
      "pyzmq-25.1.2         | 398 KB    | ########## | 100% \n",
      "pyzmq-25.1.2         | 398 KB    | ########## | 100% \n",
      "\n",
      "zstd-1.5.5           | 335 KB    |            |   0% \n",
      "zstd-1.5.5           | 335 KB    | ########## | 100% \n",
      "zstd-1.5.5           | 335 KB    | ########## | 100% \n",
      "\n",
      "setuptools-69.1.1    | 459 KB    |            |   0% \n",
      "setuptools-69.1.1    | 459 KB    | ########7  |  87% \n",
      "setuptools-69.1.1    | 459 KB    | ########## | 100% \n",
      "\n",
      "psutil-5.9.8         | 371 KB    |            |   0% \n",
      "psutil-5.9.8         | 371 KB    | ########## | 100% \n",
      "psutil-5.9.8         | 371 KB    | ########## | 100% \n",
      "\n",
      "vc14_runtime-14.38.3 | 732 KB    |            |   0% \n",
      "vc14_runtime-14.38.3 | 732 KB    | ########## | 100% \n",
      "vc14_runtime-14.38.3 | 732 KB    | ########## | 100% \n",
      "\n",
      "pycparser-2.21       | 100 KB    |            |   0% \n",
      "pycparser-2.21       | 100 KB    | ########## | 100% \n",
      "pycparser-2.21       | 100 KB    | ########## | 100% \n",
      "\n",
      "tk-8.6.13            | 3.3 MB    |            |   0% \n",
      "tk-8.6.13            | 3.3 MB    | ##1        |  22% \n",
      "tk-8.6.13            | 3.3 MB    | #####9     |  59% \n",
      "tk-8.6.13            | 3.3 MB    | ########## | 100% \n",
      "tk-8.6.13            | 3.3 MB    | ########## | 100% \n",
      "\n",
      "tqdm-4.66.2          | 87 KB     |            |   0% \n",
      "tqdm-4.66.2          | 87 KB     | ########## | 100% \n",
      "tqdm-4.66.2          | 87 KB     | ########## | 100% \n",
      "\n",
      "win_inet_pton-1.1.0  | 8 KB      |            |   0% \n",
      "win_inet_pton-1.1.0  | 8 KB      | ########## | 100% \n",
      "\n",
      "pluggy-1.4.0         | 23 KB     |            |   0% \n",
      "pluggy-1.4.0         | 23 KB     | ########## | 100% \n",
      "\n",
      "libffi-3.4.2         | 41 KB     |            |   0% \n",
      "libffi-3.4.2         | 41 KB     | ########## | 100% \n",
      "\n",
      "vc-14.3              | 17 KB     |            |   0% \n",
      "vc-14.3              | 17 KB     | ########## | 100% \n",
      "\n",
      "pycosat-0.6.6        | 73 KB     |            |   0% \n",
      "pycosat-0.6.6        | 73 KB     | ##1        |  22% \n",
      "pycosat-0.6.6        | 73 KB     | ########## | 100% \n",
      "\n",
      "bzip2-1.0.8          | 122 KB    |            |   0% \n",
      "bzip2-1.0.8          | 122 KB    | ########## | 100% \n",
      "bzip2-1.0.8          | 122 KB    | ########## | 100% \n",
      "\n",
      "colorama-0.4.6       | 25 KB     |            |   0% \n",
      "colorama-0.4.6       | 25 KB     | ########## | 100% \n",
      "\n",
      "requests-2.31.0      | 55 KB     |            |   0% \n",
      "requests-2.31.0      | 55 KB     | ########## | 100% \n",
      "\n",
      "charset-normalizer-3 | 46 KB     |            |   0% \n",
      "charset-normalizer-3 | 46 KB     | ########## | 100% \n",
      "charset-normalizer-3 | 46 KB     | ########## | 100% \n",
      "\n",
      "cryptography-42.0.5  | 1.1 MB    |            |   0% \n",
      "cryptography-42.0.5  | 1.1 MB    | ########## | 100% \n",
      "cryptography-42.0.5  | 1.1 MB    | ########## | 100% \n",
      "\n",
      "pysocks-1.7.1        | 19 KB     |            |   0% \n",
      "pysocks-1.7.1        | 19 KB     | ########## | 100% \n",
      "Preparing transaction: ...working... done\n",
      "Verifying transaction: ...working... failed\n",
      "\n",
      "Note: you may need to restart the kernel to use updated packages.\n"
     ]
    },
    {
     "name": "stderr",
     "output_type": "stream",
     "text": [
      "\n",
      "\n",
      "==> WARNING: A newer version of conda exists. <==\n",
      "  current version: 4.12.0\n",
      "  latest version: 24.1.2\n",
      "\n",
      "Please update conda by running\n",
      "\n",
      "    $ conda update -n base -c defaults conda\n",
      "\n",
      "\n",
      "\n",
      "EnvironmentNotWritableError: The current user does not have write permissions to the target environment.\n",
      "  environment location: D:\\miniconda\n",
      "\n",
      "\n"
     ]
    }
   ],
   "source": [
    "conda install -n base ipykernel --update-deps --force-reinstall"
   ]
  },
  {
   "cell_type": "code",
   "execution_count": 3,
   "metadata": {},
   "outputs": [
    {
     "name": "stdout",
     "output_type": "stream",
     "text": [
      "Collecting seaborn\n",
      "  Downloading seaborn-0.13.2-py3-none-any.whl (294 kB)\n",
      "     -------------------------------------- 294.9/294.9 kB 4.5 MB/s eta 0:00:00\n",
      "Requirement already satisfied: numpy!=1.24.0,>=1.20 in d:\\orange miniconda\\lib\\site-packages (from seaborn) (1.24.3)\n",
      "Requirement already satisfied: pandas>=1.2 in d:\\orange miniconda\\lib\\site-packages (from seaborn) (1.5.3)\n",
      "Requirement already satisfied: matplotlib!=3.6.1,>=3.4 in d:\\orange miniconda\\lib\\site-packages (from seaborn) (3.7.1)\n",
      "Requirement already satisfied: contourpy>=1.0.1 in d:\\orange miniconda\\lib\\site-packages (from matplotlib!=3.6.1,>=3.4->seaborn) (1.0.7)\n",
      "Requirement already satisfied: cycler>=0.10 in d:\\orange miniconda\\lib\\site-packages (from matplotlib!=3.6.1,>=3.4->seaborn) (0.11.0)\n",
      "Requirement already satisfied: fonttools>=4.22.0 in d:\\orange miniconda\\lib\\site-packages (from matplotlib!=3.6.1,>=3.4->seaborn) (4.39.3)\n",
      "Requirement already satisfied: kiwisolver>=1.0.1 in d:\\orange miniconda\\lib\\site-packages (from matplotlib!=3.6.1,>=3.4->seaborn) (1.4.4)\n",
      "Requirement already satisfied: packaging>=20.0 in d:\\orange miniconda\\lib\\site-packages (from matplotlib!=3.6.1,>=3.4->seaborn) (23.1)\n",
      "Requirement already satisfied: pillow>=6.2.0 in d:\\orange miniconda\\lib\\site-packages (from matplotlib!=3.6.1,>=3.4->seaborn) (9.5.0)\n",
      "Requirement already satisfied: pyparsing>=2.3.1 in d:\\orange miniconda\\lib\\site-packages (from matplotlib!=3.6.1,>=3.4->seaborn) (3.0.9)\n",
      "Requirement already satisfied: python-dateutil>=2.7 in d:\\orange miniconda\\lib\\site-packages (from matplotlib!=3.6.1,>=3.4->seaborn) (2.8.2)\n",
      "Requirement already satisfied: importlib-resources>=3.2.0 in d:\\orange miniconda\\lib\\site-packages (from matplotlib!=3.6.1,>=3.4->seaborn) (5.12.0)\n",
      "Requirement already satisfied: pytz>=2020.1 in d:\\orange miniconda\\lib\\site-packages (from pandas>=1.2->seaborn) (2023.3)\n",
      "Requirement already satisfied: zipp>=3.1.0 in d:\\orange miniconda\\lib\\site-packages (from importlib-resources>=3.2.0->matplotlib!=3.6.1,>=3.4->seaborn) (3.15.0)\n",
      "Requirement already satisfied: six>=1.5 in d:\\orange miniconda\\lib\\site-packages (from python-dateutil>=2.7->matplotlib!=3.6.1,>=3.4->seaborn) (1.16.0)\n",
      "Installing collected packages: seaborn\n",
      "Successfully installed seaborn-0.13.2\n",
      "Note: you may need to restart the kernel to use updated packages.\n"
     ]
    }
   ],
   "source": [
    "pip install seaborn\n"
   ]
  },
  {
   "cell_type": "code",
   "execution_count": 4,
   "metadata": {},
   "outputs": [
    {
     "data": {
      "text/html": [
       "<div>\n",
       "<style scoped>\n",
       "    .dataframe tbody tr th:only-of-type {\n",
       "        vertical-align: middle;\n",
       "    }\n",
       "\n",
       "    .dataframe tbody tr th {\n",
       "        vertical-align: top;\n",
       "    }\n",
       "\n",
       "    .dataframe thead th {\n",
       "        text-align: right;\n",
       "    }\n",
       "</style>\n",
       "<table border=\"1\" class=\"dataframe\">\n",
       "  <thead>\n",
       "    <tr style=\"text-align: right;\">\n",
       "      <th></th>\n",
       "      <th>int_rate</th>\n",
       "      <th>emp_length</th>\n",
       "      <th>annual_inc</th>\n",
       "      <th>delinq_2yrs</th>\n",
       "      <th>fico_range_high</th>\n",
       "      <th>revol_bal</th>\n",
       "      <th>open_acc</th>\n",
       "      <th>loan_amnt</th>\n",
       "      <th>purpose</th>\n",
       "      <th>fully_paid</th>\n",
       "    </tr>\n",
       "  </thead>\n",
       "  <tbody>\n",
       "    <tr>\n",
       "      <th>0</th>\n",
       "      <td>12.74</td>\n",
       "      <td>4 years</td>\n",
       "      <td>14000.0</td>\n",
       "      <td>0.0</td>\n",
       "      <td>689.0</td>\n",
       "      <td>9360.0</td>\n",
       "      <td>4.0</td>\n",
       "      <td>6150.0</td>\n",
       "      <td>credit_card</td>\n",
       "      <td>Yes</td>\n",
       "    </tr>\n",
       "    <tr>\n",
       "      <th>1</th>\n",
       "      <td>9.17</td>\n",
       "      <td>9 years</td>\n",
       "      <td>75000.0</td>\n",
       "      <td>0.0</td>\n",
       "      <td>679.0</td>\n",
       "      <td>16140.0</td>\n",
       "      <td>11.0</td>\n",
       "      <td>2000.0</td>\n",
       "      <td>debt_consolidation</td>\n",
       "      <td>Yes</td>\n",
       "    </tr>\n",
       "    <tr>\n",
       "      <th>2</th>\n",
       "      <td>10.99</td>\n",
       "      <td>10+ years</td>\n",
       "      <td>78000.0</td>\n",
       "      <td>0.0</td>\n",
       "      <td>729.0</td>\n",
       "      <td>23356.0</td>\n",
       "      <td>14.0</td>\n",
       "      <td>32000.0</td>\n",
       "      <td>credit_card</td>\n",
       "      <td>Yes</td>\n",
       "    </tr>\n",
       "    <tr>\n",
       "      <th>3</th>\n",
       "      <td>13.98</td>\n",
       "      <td>4 years</td>\n",
       "      <td>60000.0</td>\n",
       "      <td>0.0</td>\n",
       "      <td>679.0</td>\n",
       "      <td>20956.0</td>\n",
       "      <td>25.0</td>\n",
       "      <td>18000.0</td>\n",
       "      <td>debt_consolidation</td>\n",
       "      <td>No</td>\n",
       "    </tr>\n",
       "    <tr>\n",
       "      <th>4</th>\n",
       "      <td>19.99</td>\n",
       "      <td>&lt; 1 year</td>\n",
       "      <td>35000.0</td>\n",
       "      <td>0.0</td>\n",
       "      <td>699.0</td>\n",
       "      <td>6848.0</td>\n",
       "      <td>5.0</td>\n",
       "      <td>4600.0</td>\n",
       "      <td>debt_consolidation</td>\n",
       "      <td>Yes</td>\n",
       "    </tr>\n",
       "  </tbody>\n",
       "</table>\n",
       "</div>"
      ],
      "text/plain": [
       "   int_rate emp_length  annual_inc  delinq_2yrs  fico_range_high  revol_bal  \\\n",
       "0     12.74    4 years     14000.0          0.0            689.0     9360.0   \n",
       "1      9.17    9 years     75000.0          0.0            679.0    16140.0   \n",
       "2     10.99  10+ years     78000.0          0.0            729.0    23356.0   \n",
       "3     13.98    4 years     60000.0          0.0            679.0    20956.0   \n",
       "4     19.99   < 1 year     35000.0          0.0            699.0     6848.0   \n",
       "\n",
       "   open_acc  loan_amnt             purpose fully_paid  \n",
       "0       4.0     6150.0         credit_card        Yes  \n",
       "1      11.0     2000.0  debt_consolidation        Yes  \n",
       "2      14.0    32000.0         credit_card        Yes  \n",
       "3      25.0    18000.0  debt_consolidation         No  \n",
       "4       5.0     4600.0  debt_consolidation        Yes  "
      ]
     },
     "execution_count": 4,
     "metadata": {},
     "output_type": "execute_result"
    }
   ],
   "source": [
    "import pandas as pd\n",
    "import numpy as np\n",
    "import datetime\n",
    "import seaborn as sns\n",
    "import matplotlib.pyplot as plt\n",
    "from sklearn.compose import ColumnTransformer\n",
    "from sklearn.pipeline import Pipeline\n",
    "from sklearn.preprocessing import OneHotEncoder, MinMaxScaler\n",
    "from sklearn.impute import SimpleImputer\n",
    "from sklearn.model_selection import train_test_split, GridSearchCV\n",
    "from sklearn.metrics import classification_report\n",
    "from joblib import dump, load\n",
    "from sklearn.base import BaseEstimator, TransformerMixin\n",
    "from sklearn.ensemble import RandomForestClassifier\n",
    "\n",
    "sns.set_theme(style=\"ticks\", palette=\"pastel\")\n",
    "\n",
    "def remove_outliers(df, col: str):\n",
    "    q3 = np.quantile(df[col], 0.75)\n",
    "    q1 = np.quantile(df[col], 0.25)\n",
    "    l_lmt = q1 - 1.5 * (q3 - q1)\n",
    "    u_lmt = q3 + 1.5 * (q3 - q1)\n",
    "    return df[(df[col] >= l_lmt) & (df[col] <= u_lmt)].copy()\n",
    "    \n",
    "#Read Sample Dataset\n",
    "raw_df = pd.read_csv('../data/loan_dataset.csv')\n",
    "raw_df.head()"
   ]
  },
  {
   "cell_type": "code",
   "execution_count": null,
   "metadata": {},
   "outputs": [
    {
     "ename": "",
     "evalue": "",
     "output_type": "error",
     "traceback": [
      "\u001b[1;31mRunning cells with 'base' requires the ipykernel package.\n",
      "\u001b[1;31mRun the following command to install 'ipykernel' into the Python environment. \n",
      "\u001b[1;31mCommand: 'conda install -n base ipykernel --update-deps --force-reinstall'"
     ]
    }
   ],
   "source": [
    "#Check number of records and columns\n",
    "print(raw_df.shape)"
   ]
  },
  {
   "cell_type": "code",
   "execution_count": null,
   "metadata": {},
   "outputs": [
    {
     "ename": "",
     "evalue": "",
     "output_type": "error",
     "traceback": [
      "\u001b[1;31mRunning cells with 'base' requires the ipykernel package.\n",
      "\u001b[1;31mRun the following command to install 'ipykernel' into the Python environment. \n",
      "\u001b[1;31mCommand: 'conda install -n base ipykernel --update-deps --force-reinstall'"
     ]
    }
   ],
   "source": [
    "#Check of missing values\n",
    "raw_df.isnull().sum()"
   ]
  },
  {
   "cell_type": "code",
   "execution_count": null,
   "metadata": {
    "scrolled": true
   },
   "outputs": [
    {
     "ename": "",
     "evalue": "",
     "output_type": "error",
     "traceback": [
      "\u001b[1;31mRunning cells with 'base' requires the ipykernel package.\n",
      "\u001b[1;31mRun the following command to install 'ipykernel' into the Python environment. \n",
      "\u001b[1;31mCommand: 'conda install -n base ipykernel --update-deps --force-reinstall'"
     ]
    }
   ],
   "source": [
    "raw_df.describe(include='all')"
   ]
  },
  {
   "cell_type": "code",
   "execution_count": null,
   "metadata": {
    "scrolled": true
   },
   "outputs": [
    {
     "ename": "",
     "evalue": "",
     "output_type": "error",
     "traceback": [
      "\u001b[1;31mRunning cells with 'base' requires the ipykernel package.\n",
      "\u001b[1;31mRun the following command to install 'ipykernel' into the Python environment. \n",
      "\u001b[1;31mCommand: 'conda install -n base ipykernel --update-deps --force-reinstall'"
     ]
    }
   ],
   "source": [
    "def log_txf(df, cols: list):\n",
    "    for col in cols:\n",
    "        df['log_'+col] = np.log(df[col]+1)\n",
    "    return df\n",
    "\n",
    "raw_df = log_txf(raw_df, ['annual_inc','revol_bal'])\n",
    "raw_df.describe(include='all')"
   ]
  },
  {
   "cell_type": "code",
   "execution_count": null,
   "metadata": {},
   "outputs": [
    {
     "ename": "",
     "evalue": "",
     "output_type": "error",
     "traceback": [
      "\u001b[1;31mRunning cells with 'base' requires the ipykernel package.\n",
      "\u001b[1;31mRun the following command to install 'ipykernel' into the Python environment. \n",
      "\u001b[1;31mCommand: 'conda install -n base ipykernel --update-deps --force-reinstall'"
     ]
    }
   ],
   "source": [
    "plt.figure(figsize=(8,5))\n",
    "g = sns.countplot(raw_df, x=\"emp_length\", hue=\"fully_paid\")\n",
    "g = g.set_xticklabels(g.get_xticklabels(), rotation=30)"
   ]
  },
  {
   "cell_type": "code",
   "execution_count": null,
   "metadata": {},
   "outputs": [
    {
     "ename": "",
     "evalue": "",
     "output_type": "error",
     "traceback": [
      "\u001b[1;31mRunning cells with 'base' requires the ipykernel package.\n",
      "\u001b[1;31mRun the following command to install 'ipykernel' into the Python environment. \n",
      "\u001b[1;31mCommand: 'conda install -n base ipykernel --update-deps --force-reinstall'"
     ]
    }
   ],
   "source": [
    "plt_df = raw_df.sample(frac=0.05)\n",
    "g = sns.pairplot(plt_df[['int_rate','fico_range_high','open_acc','log_annual_inc','log_revol_bal','loan_amnt','fully_paid']], \n",
    "                 hue='fully_paid')"
   ]
  },
  {
   "cell_type": "code",
   "execution_count": null,
   "metadata": {},
   "outputs": [
    {
     "ename": "",
     "evalue": "",
     "output_type": "error",
     "traceback": [
      "\u001b[1;31mRunning cells with 'base' requires the ipykernel package.\n",
      "\u001b[1;31mRun the following command to install 'ipykernel' into the Python environment. \n",
      "\u001b[1;31mCommand: 'conda install -n base ipykernel --update-deps --force-reinstall'"
     ]
    }
   ],
   "source": [
    "plt.figure(figsize=(5,3))\n",
    "g = raw_df['fully_paid'].value_counts().plot.bar(title='Check Class Distribution', rot=0)"
   ]
  },
  {
   "cell_type": "markdown",
   "metadata": {},
   "source": [
    "### 2. Feature Engineering"
   ]
  },
  {
   "cell_type": "code",
   "execution_count": null,
   "metadata": {},
   "outputs": [
    {
     "ename": "",
     "evalue": "",
     "output_type": "error",
     "traceback": [
      "\u001b[1;31mRunning cells with 'base' requires the ipykernel package.\n",
      "\u001b[1;31mRun the following command to install 'ipykernel' into the Python environment. \n",
      "\u001b[1;31mCommand: 'conda install -n base ipykernel --update-deps --force-reinstall'"
     ]
    }
   ],
   "source": [
    "def remap_emp_length(x):\n",
    "    if x in ['< 1 year','1 year','2 years']:\n",
    "        return 'less_than_3yr'\n",
    "    if x in ['3 years','4 years','5 years']:\n",
    "        return '3_to_5yr'\n",
    "    if x in ['6 years','7 years','8 years','9 years']:\n",
    "        return '6_to_9yr'\n",
    "    return 'more_than_9yr'\n",
    "\n",
    "raw_df['emp_len'] = raw_df['emp_length'].map(remap_emp_length)\n",
    "g = sns.countplot(raw_df, x=\"emp_len\", hue=\"fully_paid\")"
   ]
  },
  {
   "cell_type": "code",
   "execution_count": null,
   "metadata": {},
   "outputs": [
    {
     "ename": "",
     "evalue": "",
     "output_type": "error",
     "traceback": [
      "\u001b[1;31mRunning cells with 'base' requires the ipykernel package.\n",
      "\u001b[1;31mRun the following command to install 'ipykernel' into the Python environment. \n",
      "\u001b[1;31mCommand: 'conda install -n base ipykernel --update-deps --force-reinstall'"
     ]
    }
   ],
   "source": [
    "plt.figure(figsize=(8,4))\n",
    "g = sns.boxplot(x=\"emp_len\", y=\"log_annual_inc\", hue=\"fully_paid\", data=raw_df, showfliers = False)"
   ]
  },
  {
   "cell_type": "code",
   "execution_count": null,
   "metadata": {},
   "outputs": [
    {
     "ename": "",
     "evalue": "",
     "output_type": "error",
     "traceback": [
      "\u001b[1;31mRunning cells with 'base' requires the ipykernel package.\n",
      "\u001b[1;31mRun the following command to install 'ipykernel' into the Python environment. \n",
      "\u001b[1;31mCommand: 'conda install -n base ipykernel --update-deps --force-reinstall'"
     ]
    }
   ],
   "source": [
    "numeric_cols = ['int_rate','log_annual_inc','fico_range_high','loan_amnt']\n",
    "g = sns.heatmap(raw_df[numeric_cols].corr(), vmin=-1, vmax=1, annot=True)"
   ]
  },
  {
   "cell_type": "markdown",
   "metadata": {},
   "source": [
    "### 3. Data Preprocessing"
   ]
  },
  {
   "cell_type": "code",
   "execution_count": null,
   "metadata": {},
   "outputs": [
    {
     "ename": "",
     "evalue": "",
     "output_type": "error",
     "traceback": [
      "\u001b[1;31mRunning cells with 'base' requires the ipykernel package.\n",
      "\u001b[1;31mRun the following command to install 'ipykernel' into the Python environment. \n",
      "\u001b[1;31mCommand: 'conda install -n base ipykernel --update-deps --force-reinstall'"
     ]
    }
   ],
   "source": [
    "#Select features that are discriminatory and uncorrelated\n",
    "features = ['emp_len','int_rate','log_annual_inc','fico_range_high','loan_amnt']\n",
    "numeric_features = ['int_rate','log_annual_inc','fico_range_high','loan_amnt']\n",
    "categorical_features = ['emp_len']\n",
    "label = 'fully_paid'\n",
    "\n",
    "numeric_transformer = MinMaxScaler()\n",
    "\n",
    "categorical_transformer = OneHotEncoder(handle_unknown=\"ignore\")\n",
    "\n",
    "preprocessor = ColumnTransformer(\n",
    "    transformers=[\n",
    "        (\"num\", numeric_transformer, numeric_features),\n",
    "        (\"cat\", categorical_transformer, categorical_features),\n",
    "    ]\n",
    ")\n",
    "\n",
    "dat = preprocessor.fit_transform(raw_df)\n",
    "new_cols = numeric_features + \\\n",
    "list(preprocessor.named_transformers_['cat'].get_feature_names_out(categorical_features))\n",
    "\n",
    "trf_df = pd.DataFrame(dat, columns=new_cols)\n",
    "trf_df.head()"
   ]
  },
  {
   "cell_type": "markdown",
   "metadata": {},
   "source": [
    "### 4. Modeling\n",
    "#### 4.1 Train-Test Split"
   ]
  },
  {
   "cell_type": "code",
   "execution_count": null,
   "metadata": {},
   "outputs": [
    {
     "ename": "",
     "evalue": "",
     "output_type": "error",
     "traceback": [
      "\u001b[1;31mRunning cells with 'base' requires the ipykernel package.\n",
      "\u001b[1;31mRun the following command to install 'ipykernel' into the Python environment. \n",
      "\u001b[1;31mCommand: 'conda install -n base ipykernel --update-deps --force-reinstall'"
     ]
    }
   ],
   "source": [
    "X_train, X_test, y_train, y_test = train_test_split(raw_df[features], \\\n",
    "                                                    raw_df[label], \\\n",
    "                                                    test_size=0.2, \\\n",
    "                                                    random_state=0)\n",
    "X_train.head()"
   ]
  },
  {
   "cell_type": "markdown",
   "metadata": {},
   "source": [
    "#### 4.2 Train Classifier"
   ]
  },
  {
   "cell_type": "code",
   "execution_count": null,
   "metadata": {},
   "outputs": [
    {
     "ename": "",
     "evalue": "",
     "output_type": "error",
     "traceback": [
      "\u001b[1;31mRunning cells with 'base' requires the ipykernel package.\n",
      "\u001b[1;31mRun the following command to install 'ipykernel' into the Python environment. \n",
      "\u001b[1;31mCommand: 'conda install -n base ipykernel --update-deps --force-reinstall'"
     ]
    }
   ],
   "source": [
    "random_forest = RandomForestClassifier(n_estimators=100,\n",
    "                                       max_depth=4, \n",
    "                                       class_weight = \"balanced\",\n",
    "                                       n_jobs=2)\n",
    "\n",
    "clf = Pipeline(steps=[(\"preprocessor\", preprocessor),\\\n",
    "                      (\"binary_classifier\", random_forest)]\n",
    "              )\n",
    "\n",
    "clf.fit(X_train, y_train)"
   ]
  },
  {
   "cell_type": "markdown",
   "metadata": {},
   "source": [
    "### 5. Evaluation"
   ]
  },
  {
   "cell_type": "code",
   "execution_count": null,
   "metadata": {},
   "outputs": [
    {
     "ename": "",
     "evalue": "",
     "output_type": "error",
     "traceback": [
      "\u001b[1;31mRunning cells with 'base' requires the ipykernel package.\n",
      "\u001b[1;31mRun the following command to install 'ipykernel' into the Python environment. \n",
      "\u001b[1;31mCommand: 'conda install -n base ipykernel --update-deps --force-reinstall'"
     ]
    }
   ],
   "source": [
    "print(classification_report(y_test, clf.predict(X_test)))"
   ]
  }
 ],
 "metadata": {
  "accelerator": "GPU",
  "colab": {
   "collapsed_sections": [],
   "name": "DSSl_LoanModel",
   "provenance": []
  },
  "kernelspec": {
   "display_name": "Python 3 (ipykernel)",
   "language": "python",
   "name": "python3"
  },
  "language_info": {
   "codemirror_mode": {
    "name": "ipython",
    "version": 3
   },
   "file_extension": ".py",
   "mimetype": "text/x-python",
   "name": "python",
   "nbconvert_exporter": "python",
   "pygments_lexer": "ipython3",
   "version": "3.9.12"
  }
 },
 "nbformat": 4,
 "nbformat_minor": 1
}
